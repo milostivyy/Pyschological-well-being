{
 "cells": [
  {
   "cell_type": "code",
   "execution_count": 1,
   "metadata": {},
   "outputs": [],
   "source": [
    "from sklearn.svm import SVC\n",
    "from sklearn.model_selection import RandomizedSearchCV\n",
    "from sklearn.metrics import classification_report\n",
    "from sklearn.inspection import permutation_importance\n",
    "import pandas as pd\n",
    "import numpy as np\n",
    "from sklearn.model_selection import train_test_split\n",
    "from sklearn.metrics import confusion_matrix, accuracy_score, classification_report,precision_recall_fscore_support"
   ]
  },
  {
   "cell_type": "code",
   "execution_count": 2,
   "metadata": {},
   "outputs": [],
   "source": [
    "mental_df = pd.read_csv('new_output.csv')\n"
   ]
  },
  {
   "cell_type": "code",
   "execution_count": 3,
   "metadata": {},
   "outputs": [],
   "source": [
    "# Define the target set.\n",
    "y = mental_df[\"If yes, what condition(s) have you been diagnosed with?\"]\n",
    "# Define the features set.\n",
    "X = mental_df[[\"Are you self-employed?\",\n",
    "\"Do you work remotely?\",\n",
    "\"Have you had a mental health disorder in the past?\",\n",
    "\"Do you believe your productivity is ever affected by a mental health issue?\",\n",
    "\"Do you have a family history of mental illness?\",\n",
    "\"do you feel comfortable in your working environment?\",\n",
    "\"do  you feel comfortable working  with your direct supervisor(s)?\",\n",
    "\"Do you feel that your organisation takes mental health as seriously as physical health?\",\n",
    "\"Have you observed or experienced an unsupportive or badly handled response to an issue in your current workplace?\",\n",
    "\"are you stressed about your career?\",\n",
    "\"Have you ever sought treatment for a mental health issue from a mental health professional?\",\n",
    "\"How willing would you be to share with friends and family about your work stress?\",\n",
    "\"Do you currently have a mental health disorder?\",\n",
    "\"Have you observed or experienced an unsupportive or badly handled response to an issue in your current workplace?\",\n",
    "\"Did you feel that your previous employers took mental health as seriously as physical health?\",\n",
    "\"Have your previous employers provided mental health benefits?\"]]"
   ]
  },
  {
   "cell_type": "code",
   "execution_count": 4,
   "metadata": {},
   "outputs": [],
   "source": [
    "# Splitting into Train and Test sets.\n",
    "X_train, X_test, y_train, y_test = train_test_split(X, y, random_state=78)"
   ]
  },
  {
   "cell_type": "code",
   "execution_count": 5,
   "metadata": {},
   "outputs": [],
   "source": [
    "# feature names\n",
    "feature_names = list(X_train.columns)\n"
   ]
  },
  {
   "cell_type": "code",
   "execution_count": 6,
   "metadata": {},
   "outputs": [],
   "source": [
    "svm_classifier = SVC(kernel='rbf', decision_function_shape='ovr')"
   ]
  },
  {
   "cell_type": "code",
   "execution_count": 7,
   "metadata": {},
   "outputs": [
    {
     "data": {
      "text/html": [
       "<style>#sk-container-id-1 {color: black;background-color: white;}#sk-container-id-1 pre{padding: 0;}#sk-container-id-1 div.sk-toggleable {background-color: white;}#sk-container-id-1 label.sk-toggleable__label {cursor: pointer;display: block;width: 100%;margin-bottom: 0;padding: 0.3em;box-sizing: border-box;text-align: center;}#sk-container-id-1 label.sk-toggleable__label-arrow:before {content: \"▸\";float: left;margin-right: 0.25em;color: #696969;}#sk-container-id-1 label.sk-toggleable__label-arrow:hover:before {color: black;}#sk-container-id-1 div.sk-estimator:hover label.sk-toggleable__label-arrow:before {color: black;}#sk-container-id-1 div.sk-toggleable__content {max-height: 0;max-width: 0;overflow: hidden;text-align: left;background-color: #f0f8ff;}#sk-container-id-1 div.sk-toggleable__content pre {margin: 0.2em;color: black;border-radius: 0.25em;background-color: #f0f8ff;}#sk-container-id-1 input.sk-toggleable__control:checked~div.sk-toggleable__content {max-height: 200px;max-width: 100%;overflow: auto;}#sk-container-id-1 input.sk-toggleable__control:checked~label.sk-toggleable__label-arrow:before {content: \"▾\";}#sk-container-id-1 div.sk-estimator input.sk-toggleable__control:checked~label.sk-toggleable__label {background-color: #d4ebff;}#sk-container-id-1 div.sk-label input.sk-toggleable__control:checked~label.sk-toggleable__label {background-color: #d4ebff;}#sk-container-id-1 input.sk-hidden--visually {border: 0;clip: rect(1px 1px 1px 1px);clip: rect(1px, 1px, 1px, 1px);height: 1px;margin: -1px;overflow: hidden;padding: 0;position: absolute;width: 1px;}#sk-container-id-1 div.sk-estimator {font-family: monospace;background-color: #f0f8ff;border: 1px dotted black;border-radius: 0.25em;box-sizing: border-box;margin-bottom: 0.5em;}#sk-container-id-1 div.sk-estimator:hover {background-color: #d4ebff;}#sk-container-id-1 div.sk-parallel-item::after {content: \"\";width: 100%;border-bottom: 1px solid gray;flex-grow: 1;}#sk-container-id-1 div.sk-label:hover label.sk-toggleable__label {background-color: #d4ebff;}#sk-container-id-1 div.sk-serial::before {content: \"\";position: absolute;border-left: 1px solid gray;box-sizing: border-box;top: 0;bottom: 0;left: 50%;z-index: 0;}#sk-container-id-1 div.sk-serial {display: flex;flex-direction: column;align-items: center;background-color: white;padding-right: 0.2em;padding-left: 0.2em;position: relative;}#sk-container-id-1 div.sk-item {position: relative;z-index: 1;}#sk-container-id-1 div.sk-parallel {display: flex;align-items: stretch;justify-content: center;background-color: white;position: relative;}#sk-container-id-1 div.sk-item::before, #sk-container-id-1 div.sk-parallel-item::before {content: \"\";position: absolute;border-left: 1px solid gray;box-sizing: border-box;top: 0;bottom: 0;left: 50%;z-index: -1;}#sk-container-id-1 div.sk-parallel-item {display: flex;flex-direction: column;z-index: 1;position: relative;background-color: white;}#sk-container-id-1 div.sk-parallel-item:first-child::after {align-self: flex-end;width: 50%;}#sk-container-id-1 div.sk-parallel-item:last-child::after {align-self: flex-start;width: 50%;}#sk-container-id-1 div.sk-parallel-item:only-child::after {width: 0;}#sk-container-id-1 div.sk-dashed-wrapped {border: 1px dashed gray;margin: 0 0.4em 0.5em 0.4em;box-sizing: border-box;padding-bottom: 0.4em;background-color: white;}#sk-container-id-1 div.sk-label label {font-family: monospace;font-weight: bold;display: inline-block;line-height: 1.2em;}#sk-container-id-1 div.sk-label-container {text-align: center;}#sk-container-id-1 div.sk-container {/* jupyter's `normalize.less` sets `[hidden] { display: none; }` but bootstrap.min.css set `[hidden] { display: none !important; }` so we also need the `!important` here to be able to override the default hidden behavior on the sphinx rendered scikit-learn.org. See: https://github.com/scikit-learn/scikit-learn/issues/21755 */display: inline-block !important;position: relative;}#sk-container-id-1 div.sk-text-repr-fallback {display: none;}</style><div id=\"sk-container-id-1\" class=\"sk-top-container\"><div class=\"sk-text-repr-fallback\"><pre>SVC()</pre><b>In a Jupyter environment, please rerun this cell to show the HTML representation or trust the notebook. <br />On GitHub, the HTML representation is unable to render, please try loading this page with nbviewer.org.</b></div><div class=\"sk-container\" hidden><div class=\"sk-item\"><div class=\"sk-estimator sk-toggleable\"><input class=\"sk-toggleable__control sk-hidden--visually\" id=\"sk-estimator-id-1\" type=\"checkbox\" checked><label for=\"sk-estimator-id-1\" class=\"sk-toggleable__label sk-toggleable__label-arrow\">SVC</label><div class=\"sk-toggleable__content\"><pre>SVC()</pre></div></div></div></div></div>"
      ],
      "text/plain": [
       "SVC()"
      ]
     },
     "execution_count": 7,
     "metadata": {},
     "output_type": "execute_result"
    }
   ],
   "source": [
    "# Train the SVM classifier\n",
    "svm_classifier.fit(X_train, y_train)\n"
   ]
  },
  {
   "cell_type": "code",
   "execution_count": 8,
   "metadata": {},
   "outputs": [],
   "source": [
    "# Predict on the test set\n",
    "y_pred = svm_classifier.predict(X_test)"
   ]
  },
  {
   "cell_type": "code",
   "execution_count": 9,
   "metadata": {},
   "outputs": [
    {
     "name": "stderr",
     "output_type": "stream",
     "text": [
      "c:\\Python310\\lib\\site-packages\\sklearn\\metrics\\_classification.py:1344: UndefinedMetricWarning: Precision and F-score are ill-defined and being set to 0.0 in labels with no predicted samples. Use `zero_division` parameter to control this behavior.\n",
      "  _warn_prf(average, modifier, msg_start, len(result))\n",
      "c:\\Python310\\lib\\site-packages\\sklearn\\metrics\\_classification.py:1344: UndefinedMetricWarning: Precision and F-score are ill-defined and being set to 0.0 in labels with no predicted samples. Use `zero_division` parameter to control this behavior.\n",
      "  _warn_prf(average, modifier, msg_start, len(result))\n",
      "c:\\Python310\\lib\\site-packages\\sklearn\\metrics\\_classification.py:1344: UndefinedMetricWarning: Precision and F-score are ill-defined and being set to 0.0 in labels with no predicted samples. Use `zero_division` parameter to control this behavior.\n",
      "  _warn_prf(average, modifier, msg_start, len(result))\n"
     ]
    }
   ],
   "source": [
    "# Evaluate the classifier\n",
    "accuracy = accuracy_score(y_test, y_pred)\n",
    "classification_report = classification_report(y_test, y_pred)"
   ]
  },
  {
   "cell_type": "code",
   "execution_count": 10,
   "metadata": {},
   "outputs": [
    {
     "data": {
      "text/plain": [
       "array(['Anxiety Disorder (Generalized, Social, Phobia, etc)|Mood Disorder (Depression, Bipolar Disorder, etc)',\n",
       "       'Anxiety Disorder (Generalized, Social, Phobia, etc)|Mood Disorder (Depression, Bipolar Disorder, etc)',\n",
       "       'Anxiety Disorder (Generalized, Social, Phobia, etc)|Mood Disorder (Depression, Bipolar Disorder, etc)',\n",
       "       ...,\n",
       "       'Anxiety Disorder (Generalized, Social, Phobia, etc)|Mood Disorder (Depression, Bipolar Disorder, etc)',\n",
       "       'Anxiety Disorder (Generalized, Social, Phobia, etc)|Mood Disorder (Depression, Bipolar Disorder, etc)|Eating Disorder (Anorexia, Bulimia, etc)|Obsessive-Compulsive Disorder',\n",
       "       'Anxiety Disorder (Generalized, Social, Phobia, etc)|Mood Disorder (Depression, Bipolar Disorder, etc)|Eating Disorder (Anorexia, Bulimia, etc)'],\n",
       "      dtype=object)"
      ]
     },
     "execution_count": 10,
     "metadata": {},
     "output_type": "execute_result"
    }
   ],
   "source": [
    "# Making predictions using the testing data.\n",
    "predictions = svm_classifier.predict(X_test)\n",
    "predictions"
   ]
  },
  {
   "cell_type": "code",
   "execution_count": 11,
   "metadata": {},
   "outputs": [],
   "source": [
    "# Calculating the accuracy score.\n",
    "acc_score = accuracy_score(y_test, predictions)"
   ]
  },
  {
   "cell_type": "code",
   "execution_count": 12,
   "metadata": {},
   "outputs": [
    {
     "name": "stderr",
     "output_type": "stream",
     "text": [
      "c:\\Python310\\lib\\site-packages\\sklearn\\metrics\\_classification.py:1344: UndefinedMetricWarning: Precision and F-score are ill-defined and being set to 0.0 in labels with no predicted samples. Use `zero_division` parameter to control this behavior.\n",
      "  _warn_prf(average, modifier, msg_start, len(result))\n"
     ]
    }
   ],
   "source": [
    "prec=precision_recall_fscore_support(y_test,predictions)"
   ]
  },
  {
   "cell_type": "code",
   "execution_count": 15,
   "metadata": {},
   "outputs": [
    {
     "name": "stdout",
     "output_type": "stream",
     "text": [
      "Confusion Matrix:\n",
      "[[  2   0   0 ...   0   0   0]\n",
      " [  0 348   0 ...   0   0   0]\n",
      " [  0   0   7 ...   0   0   0]\n",
      " ...\n",
      " [  0   0   0 ...   7   0   0]\n",
      " [  0   0   0 ...   0  10   0]\n",
      " [  0   0   0 ...   0   0   5]]\n",
      "Precision: [1.         0.80930233 1.         0.72321429 1.         0.62857143\n",
      " 1.         1.         0.         0.46666667 0.96348487 1.\n",
      " 0.83823529 0.         0.72727273 0.         1.         1.\n",
      " 1.         1.         1.         1.         1.         1.\n",
      " 1.         1.         1.         1.         1.         1.\n",
      " 0.         1.         0.36363636 1.         1.         1.\n",
      " 0.79069767 1.         1.         1.         1.         1.\n",
      " 1.         1.         0.         1.         1.         0.62962963\n",
      " 0.         1.         0.65217391 0.53333333 1.         0.72093023\n",
      " 1.         1.         1.         1.         1.         1.\n",
      " 1.         1.         1.         1.         0.         1.\n",
      " 1.         1.         1.         1.         1.         1.\n",
      " 1.         1.         0.         0.         1.         1.\n",
      " 1.         1.         1.         0.         1.         0.78454842\n",
      " 0.         1.         1.         0.8137931  0.         1.\n",
      " 1.         1.         1.         1.         1.         1.\n",
      " 1.         1.         1.         0.58064516 1.         1.\n",
      " 1.         1.         1.         1.         1.         1.\n",
      " 1.         0.         1.         1.         1.         1.\n",
      " 1.         0.         1.         1.         1.         1.\n",
      " 1.         1.         1.         1.         1.         1.\n",
      " 1.         1.        ]\n",
      "Recall: [1.         0.95342466 1.         0.87096774 1.         1.\n",
      " 1.         1.         0.         1.         0.99042701 0.73529412\n",
      " 0.77727273 0.         0.59259259 0.         1.         1.\n",
      " 1.         1.         1.         1.         0.55       1.\n",
      " 1.         1.         1.         0.91463415 1.         1.\n",
      " 0.         1.         0.75       1.         1.         1.\n",
      " 0.51515152 1.         0.6        1.         0.525      1.\n",
      " 1.         1.         0.         0.53333333 1.         0.62962963\n",
      " 0.         1.         1.         1.         0.44444444 0.81578947\n",
      " 1.         1.         0.96       1.         1.         1.\n",
      " 1.         1.         0.75       0.625      0.         0.72413793\n",
      " 1.         0.64705882 0.63235294 1.         0.52941176 1.\n",
      " 1.         1.         0.         0.         1.         1.\n",
      " 1.         1.         1.         0.         1.         0.84923439\n",
      " 0.         1.         0.84313725 0.63783784 0.         1.\n",
      " 1.         0.6969697  1.         1.         1.         1.\n",
      " 1.         1.         1.         1.         1.         1.\n",
      " 0.55172414 1.         1.         1.         1.         0.25925926\n",
      " 1.         0.         1.         1.         1.         1.\n",
      " 0.83018868 0.         1.         0.51219512 1.         1.\n",
      " 1.         1.         1.         1.         1.         1.\n",
      " 1.         1.        ]\n",
      "F1-score: [1.         0.8754717  1.         0.7902439  1.         0.77192982\n",
      " 1.         1.         0.         0.63636364 0.97677019 0.84745763\n",
      " 0.80660377 0.         0.65306122 0.         1.         1.\n",
      " 1.         1.         1.         1.         0.70967742 1.\n",
      " 1.         1.         1.         0.95541401 1.         1.\n",
      " 0.         1.         0.48979592 1.         1.         1.\n",
      " 0.62385321 1.         0.75       1.         0.68852459 1.\n",
      " 1.         1.         0.         0.69565217 1.         0.62962963\n",
      " 0.         1.         0.78947368 0.69565217 0.61538462 0.7654321\n",
      " 1.         1.         0.97959184 1.         1.         1.\n",
      " 1.         1.         0.85714286 0.76923077 0.         0.84\n",
      " 1.         0.78571429 0.77477477 1.         0.69230769 1.\n",
      " 1.         1.         0.         0.         1.         1.\n",
      " 1.         1.         1.         0.         1.         0.81561086\n",
      " 0.         1.         0.91489362 0.71515152 0.         1.\n",
      " 1.         0.82142857 1.         1.         1.         1.\n",
      " 1.         1.         1.         0.73469388 1.         1.\n",
      " 0.71111111 1.         1.         1.         1.         0.41176471\n",
      " 1.         0.         1.         1.         1.         1.\n",
      " 0.90721649 0.         1.         0.67741935 1.         1.\n",
      " 1.         1.         1.         1.         1.         1.\n",
      " 1.         1.        ]\n",
      "Support: [   2  365    7   93    4   22    9    8   11    7 7939   34  220    8\n",
      "   27   10    6   11    6    8    8   11   20    6    2   19    3   82\n",
      "    9    6    9    6   16    9    8    7   66    5   15   12   40    9\n",
      "    8   12    8   15   11   81    8    8   15    8    9   38   10   11\n",
      "   50   48    9   14   10    4   24   16    2   29    9   51  136    5\n",
      "   17   10    8    7    7    9   11    8    5    7    6   12   11  849\n",
      "    8    5   51  185    9   11    4   33    9   21    5    6   10    9\n",
      "    7   18    7   10   29    8    9   14   14   27    2   11   11   29\n",
      "   10   10   53   11    9   41    9    6   11    5   16    5    8    7\n",
      "   10    5]\n"
     ]
    },
    {
     "name": "stderr",
     "output_type": "stream",
     "text": [
      "c:\\Python310\\lib\\site-packages\\sklearn\\metrics\\_classification.py:1344: UndefinedMetricWarning: Precision and F-score are ill-defined and being set to 0.0 in labels with no predicted samples. Use `zero_division` parameter to control this behavior.\n",
      "  _warn_prf(average, modifier, msg_start, len(result))\n"
     ]
    }
   ],
   "source": [
    "# Calculate confusion matrix\n",
    "cm = confusion_matrix(y_test, y_pred)\n",
    "print('Confusion Matrix:')\n",
    "print(cm)\n",
    "\n",
    "# Calculate precision, recall, f1-score, support\n",
    "precision, recall, f1_score, support = precision_recall_fscore_support(y_test, y_pred)\n",
    "print('Precision:', precision)\n",
    "print('Recall:', recall)\n",
    "print('F1-score:', f1_score)\n",
    "print('Support:', support)"
   ]
  },
  {
   "cell_type": "code",
   "execution_count": 16,
   "metadata": {},
   "outputs": [],
   "source": [
    "import pickle\n",
    "\n",
    "# Define the file name for the pickled model\n",
    "pkl_filename = \"svm_pickle_model.pkl\"\n",
    "\n",
    "# Create a dictionary object containing the model and feature names\n",
    "model_dict = {\"model\": svm_classifier, \"feature_names\": feature_names}\n",
    "\n",
    "# Pickle the dictionary object to the file\n",
    "with open(pkl_filename, 'wb') as file:\n",
    "    pickle.dump(model_dict, file)\n",
    "\n",
    "# Load the pickled model from file\n",
    "with open(pkl_filename, 'rb') as file:\n",
    "    pickled_model = pickle.load(file)\n",
    "\n",
    "# Retrieve the SVM model and feature names from the dictionary object\n",
    "svm_model = pickled_model[\"model\"]\n",
    "loaded_feature_names = pickled_model[\"feature_names\"]\n"
   ]
  },
  {
   "cell_type": "code",
   "execution_count": null,
   "metadata": {},
   "outputs": [],
   "source": []
  }
 ],
 "metadata": {
  "kernelspec": {
   "display_name": "Python 3",
   "language": "python",
   "name": "python3"
  },
  "language_info": {
   "codemirror_mode": {
    "name": "ipython",
    "version": 3
   },
   "file_extension": ".py",
   "mimetype": "text/x-python",
   "name": "python",
   "nbconvert_exporter": "python",
   "pygments_lexer": "ipython3",
   "version": "3.10.5"
  },
  "orig_nbformat": 4
 },
 "nbformat": 4,
 "nbformat_minor": 2
}
